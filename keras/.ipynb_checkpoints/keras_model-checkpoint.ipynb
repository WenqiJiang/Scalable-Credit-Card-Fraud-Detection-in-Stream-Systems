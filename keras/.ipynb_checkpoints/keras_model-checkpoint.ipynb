{
 "cells": [
  {
   "cell_type": "code",
   "execution_count": 1,
   "metadata": {},
   "outputs": [
    {
     "name": "stderr",
     "output_type": "stream",
     "text": [
      "Using TensorFlow backend.\n"
     ]
    }
   ],
   "source": [
    "from keras.models import Sequential\n",
    "from keras.layers import Dense\n",
    "import numpy as np\n",
    "from prec_recall import prec_recall\n",
    "# fix random seed for reproducibility\n",
    "np.random.seed(7)"
   ]
  },
  {
   "cell_type": "code",
   "execution_count": 2,
   "metadata": {},
   "outputs": [
    {
     "name": "stdout",
     "output_type": "stream",
     "text": [
      "shape: (622, 28)\n",
      "[[ 0.29015516  0.04924313 -0.74052367 ...  2.74526067 -0.2204016\n",
      "   0.16823274]\n",
      " [-1.61218737 -4.62014787 -0.28331816 ...  0.89152121 -0.31278271\n",
      "   0.26827516]\n",
      " [-4.28058383  1.42110001 -3.90822884 ... -1.14992267 -1.80988612\n",
      "   0.72305143]\n",
      " ...\n",
      " [ 1.23220629  0.26485221  0.42781704 ... -0.44599829  0.03289931\n",
      "   0.01365267]\n",
      " [ 1.20493424  3.23806951 -6.0103244  ...  0.05603474  0.49182782\n",
      "   0.34084669]\n",
      " [-0.32479146  1.08346101 -1.20520689 ...  0.07256116  0.48961806\n",
      "   0.33803559]]\n",
      "[ 0.29015516  0.04924313 -0.74052367  2.86546277  1.39529392 -0.53516328\n",
      "  0.14254337 -0.22276971 -1.46369065  1.71353755 -1.12757349 -0.70865735\n",
      "  0.27218608  0.27471029  0.23519195 -0.46355271  0.47299539 -0.44789916\n",
      "  1.79092415  0.24757953  0.33734885  1.01819058  0.30355001  0.83388612\n",
      " -1.2223061   2.74526067 -0.2204016   0.16823274]\n"
     ]
    }
   ],
   "source": [
    "# load pima indians dataset\n",
    "\n",
    "option = \"subsample\"\n",
    "\n",
    "if option == \"subsample\":\n",
    "    X_train = np.load(\"../data/subsamp_data/processed_X_train.npy\")\n",
    "    X_val = np.load(\"../data/subsamp_data/processed_X_val.npy\")\n",
    "    X_test = np.load(\"../data/subsamp_data/processed_X_test.npy\")\n",
    "    y_train = np.load(\"../data/subsamp_data/processed_y_train.npy\")\n",
    "    y_val = np.load(\"../data/subsamp_data/processed_y_val.npy\")\n",
    "    y_test = np.load(\"../data/subsamp_data/processed_y_test.npy\")\n",
    "\n",
    "print(\"shape: {}\".format(X_train.shape))\n",
    "print(X_train)\n",
    "print(X_train[0])"
   ]
  },
  {
   "cell_type": "code",
   "execution_count": 3,
   "metadata": {},
   "outputs": [],
   "source": [
    "# create model\n",
    "model = Sequential()\n",
    "model.add(Dense(12, input_dim=28, activation='relu'))\n",
    "model.add(Dense(6, activation='relu'))\n",
    "model.add(Dense(1, activation='sigmoid'))\n",
    "# Compile model\n",
    "model.compile(loss='binary_crossentropy', optimizer='adam', metrics=['accuracy'])"
   ]
  },
  {
   "cell_type": "code",
   "execution_count": 22,
   "metadata": {},
   "outputs": [
    {
     "name": "stdout",
     "output_type": "stream",
     "text": [
      "Epoch 1/10\n",
      "622/622 [==============================] - 0s 364us/step - loss: 0.3875 - acc: 0.8955\n",
      "Epoch 2/10\n",
      "622/622 [==============================] - 0s 358us/step - loss: 0.3723 - acc: 0.9100\n",
      "Epoch 3/10\n",
      "622/622 [==============================] - 0s 362us/step - loss: 0.3604 - acc: 0.9164\n",
      "Epoch 4/10\n",
      "622/622 [==============================] - 0s 375us/step - loss: 0.3438 - acc: 0.9132\n",
      "Epoch 5/10\n",
      "622/622 [==============================] - 0s 368us/step - loss: 0.3331 - acc: 0.9180\n",
      "Epoch 6/10\n",
      "622/622 [==============================] - 0s 372us/step - loss: 0.3229 - acc: 0.9212\n",
      "Epoch 7/10\n",
      "622/622 [==============================] - 0s 375us/step - loss: 0.3114 - acc: 0.9260\n",
      "Epoch 8/10\n",
      "622/622 [==============================] - 0s 370us/step - loss: 0.2988 - acc: 0.9293\n",
      "Epoch 9/10\n",
      "622/622 [==============================] - 0s 375us/step - loss: 0.2883 - acc: 0.9277\n",
      "Epoch 10/10\n",
      "622/622 [==============================] - 0s 373us/step - loss: 0.2771 - acc: 0.9325\n"
     ]
    },
    {
     "data": {
      "text/plain": [
       "<keras.callbacks.History at 0x7f1f4beb9908>"
      ]
     },
     "execution_count": 22,
     "metadata": {},
     "output_type": "execute_result"
    }
   ],
   "source": [
    "# Fit the model\n",
    "class_weight = {0: 1.,\n",
    "                1: 50}\n",
    "model.fit(X_train, y_train, epochs=10, batch_size=10, class_weight=class_weight)"
   ]
  },
  {
   "cell_type": "code",
   "execution_count": 23,
   "metadata": {},
   "outputs": [],
   "source": [
    "model.save_weights(\"model.h5\")"
   ]
  },
  {
   "cell_type": "code",
   "execution_count": 14,
   "metadata": {},
   "outputs": [],
   "source": [
    "def binary_label(labels):\n",
    "    ans = []\n",
    "    for i in labels:\n",
    "        if i > 0.5:\n",
    "            ans.append(1)\n",
    "        else:\n",
    "            ans.append(0)\n",
    "            \n",
    "    return ans"
   ]
  },
  {
   "cell_type": "code",
   "execution_count": 24,
   "metadata": {},
   "outputs": [
    {
     "name": "stdout",
     "output_type": "stream",
     "text": [
      "validation accuracy:\n",
      "188/188 [==============================] - 0s 74us/step\n",
      "\n",
      "acc: 85.11%\n",
      "TP count:    90\n",
      "FP count:    24\n",
      "TN count:    70\n",
      "FN count:    4\n",
      "Precision rate:  0.7894736842105263\n",
      "Recall rate: 0.9574468085106383\n",
      "174/174 [==============================] - 0s 58us/step\n",
      "\n",
      "acc: 91.38%\n",
      "TP count:    84\n",
      "FP count:    12\n",
      "TN count:    75\n",
      "FN count:    3\n",
      "Precision rate:  0.875\n",
      "Recall rate: 0.9655172413793104\n"
     ]
    }
   ],
   "source": [
    "from prec_recall import prec_recall\n",
    "\n",
    "print(\"validation accuracy:\")\n",
    "scores = model.evaluate(X_val, y_val)\n",
    "print(\"\\n%s: %.2f%%\" % (model.metrics_names[1], scores[1]*100))\n",
    "y_val_pred =  binary_label(model.predict(X_val))\n",
    "prec_recall(label=y_val, predict=y_val_pred)\n",
    "\n",
    "scores = model.evaluate(X_test, y_test)\n",
    "print(\"\\n%s: %.2f%%\" % (model.metrics_names[1], scores[1]*100))\n",
    "y_test_pred =  binary_label(model.predict(X_test))\n",
    "prec_recall(label=y_test, predict=y_test_pred)"
   ]
  },
  {
   "cell_type": "code",
   "execution_count": null,
   "metadata": {},
   "outputs": [],
   "source": [
    "# calculate predictions\n",
    "predictions = model.predict(X)\n",
    "# round predictions\n",
    "rounded = [round(x[0]) for x in predictions]\n",
    "print(rounded)"
   ]
  },
  {
   "cell_type": "code",
   "execution_count": null,
   "metadata": {},
   "outputs": [],
   "source": [
    "model = Sequential()\n",
    "model.add(Dense(12, input_dim=8, activation='relu'))\n",
    "model.add(Dense(8, activation='relu'))\n",
    "model.add(Dense(1, activation='sigmoid'))\n",
    "model.compile(loss='binary_crossentropy', optimizer='adam', metrics=['accuracy'])\n",
    "model.load_weights(\"model.h5\")"
   ]
  },
  {
   "cell_type": "code",
   "execution_count": null,
   "metadata": {},
   "outputs": [],
   "source": [
    "scores = model.evaluate(X, Y)\n",
    "print(\"\\n%s: %.2f%%\" % (model.metrics_names[1], scores[1]*100))"
   ]
  },
  {
   "cell_type": "code",
   "execution_count": null,
   "metadata": {},
   "outputs": [],
   "source": []
  }
 ],
 "metadata": {
  "kernelspec": {
   "display_name": "Python 3",
   "language": "python",
   "name": "python3"
  },
  "language_info": {
   "codemirror_mode": {
    "name": "ipython",
    "version": 3
   },
   "file_extension": ".py",
   "mimetype": "text/x-python",
   "name": "python",
   "nbconvert_exporter": "python",
   "pygments_lexer": "ipython3",
   "version": "3.7.3"
  }
 },
 "nbformat": 4,
 "nbformat_minor": 2
}
