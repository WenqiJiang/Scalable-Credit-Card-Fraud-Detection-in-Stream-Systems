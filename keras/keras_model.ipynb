{
 "cells": [
  {
   "cell_type": "code",
   "execution_count": 2,
   "metadata": {},
   "outputs": [
    {
     "name": "stderr",
     "output_type": "stream",
     "text": [
      "Using TensorFlow backend.\n",
      "/Users/wenqi/anaconda3/lib/python3.7/importlib/_bootstrap.py:219: RuntimeWarning: compiletime version 3.6 of module 'tensorflow.python.framework.fast_tensor_util' does not match runtime version 3.7\n",
      "  return f(*args, **kwds)\n"
     ]
    }
   ],
   "source": [
    "from keras.models import Sequential\n",
    "from keras.layers import Dense\n",
    "import numpy as np\n",
    "from prec_recall import prec_recall\n",
    "# fix random seed for reproducibility\n",
    "np.random.seed(7)"
   ]
  },
  {
   "cell_type": "code",
   "execution_count": 4,
   "metadata": {},
   "outputs": [
    {
     "name": "stdout",
     "output_type": "stream",
     "text": [
      "shape: (56962, 28)\n",
      "[[-1.88113802 -0.74235614  1.06995965 ...  0.92028053  0.08424699\n",
      "   0.02944781]\n",
      " [ 1.22525413  0.34181835  0.75873135 ...  0.05821159 -0.02147733\n",
      "   0.02647026]\n",
      " [ 1.18797456 -0.87555093  0.53915157 ... -0.14552036  0.09054168\n",
      "   0.03467882]\n",
      " ...\n",
      " [-1.14996324  1.69646167  1.63711373 ...  0.21034302 -0.16204654\n",
      "   0.03119279]\n",
      " [ 1.75455368 -0.69939829 -0.07633214 ...  0.10463621 -0.00585291\n",
      "  -0.01962208]\n",
      " [-0.70763501  0.49330227  2.64808871 ... -0.39874131 -0.38558861\n",
      "  -0.20558893]]\n",
      "[-1.88113802 -0.74235614  1.06995965 -1.23734802 -1.47560302  0.19913695\n",
      "  1.86328489 -0.47423259  0.4101315  -1.24941593 -0.5773685   0.14005026\n",
      "  0.85590515 -0.40157396  1.35768666  0.14682466 -0.4378473   0.14872055\n",
      "  0.57545165 -0.33199204  0.02818773  0.67043208 -0.225319    0.06510109\n",
      "  0.47225463  0.92028053  0.08424699  0.02944781]\n"
     ]
    }
   ],
   "source": [
    "# load pima indians dataset\n",
    "\n",
    "if dataset == \"subsample\":\n",
    "    X_train = np.load(\"../data/subsamp_data/processed_X_train.npy\")\n",
    "    y_train = np.load(\"../data/subsamp_data/processed_y_train.npy\")\n",
    "elif dataset == \"origin\":\n",
    "    X_train = np.load(\"../data/origin_data/X_train.npy\")\n",
    "    y_train = np.load(\"../data/origin_data/y_train.npy\")\n",
    "else:\n",
    "    raise Exception(\"Unknown dataset name\")\n",
    "\n",
    "# val / test always on the largest dataset\n",
    "X_val = np.load(\"../data/origin_data/X_val.npy\")\n",
    "y_val = np.load(\"../data/origin_data/y_val.npy\")\n",
    "X_test = np.load(\"../data/origin_data/X_test.npy\")\n",
    "y_test = np.load(\"../data/origin_data/y_test.npy\")\n",
    "\n",
    "print(\"shape: {}\".format(X_val.shape))\n",
    "print(X_val)\n",
    "print(X_val[0])"
   ]
  },
  {
   "cell_type": "code",
   "execution_count": 3,
   "metadata": {},
   "outputs": [
    {
     "name": "stdout",
     "output_type": "stream",
     "text": [
      "WARNING:tensorflow:From /Users/wenqi/anaconda3/lib/python3.7/site-packages/tensorflow/python/framework/op_def_library.py:263: colocate_with (from tensorflow.python.framework.ops) is deprecated and will be removed in a future version.\n",
      "Instructions for updating:\n",
      "Colocations handled automatically by placer.\n"
     ]
    }
   ],
   "source": [
    "# create model\n",
    "model = Sequential()\n",
    "model.add(Dense(12, input_dim=28, activation='relu'))\n",
    "model.add(Dense(6, activation='relu'))\n",
    "model.add(Dense(1, activation='sigmoid'))\n",
    "# Compile model\n",
    "model.compile(loss='binary_crossentropy', optimizer='adam', metrics=['accuracy'])"
   ]
  },
  {
   "cell_type": "code",
   "execution_count": 8,
   "metadata": {},
   "outputs": [
    {
     "name": "stdout",
     "output_type": "stream",
     "text": [
      "Epoch 1/10\n",
      "622/622 [==============================] - 0s 131us/step - loss: 0.8100 - acc: 0.5048\n",
      "Epoch 2/10\n",
      "622/622 [==============================] - 0s 116us/step - loss: 0.7742 - acc: 0.5080\n",
      "Epoch 3/10\n",
      "622/622 [==============================] - 0s 107us/step - loss: 0.7390 - acc: 0.5096\n",
      "Epoch 4/10\n",
      "622/622 [==============================] - 0s 120us/step - loss: 0.7070 - acc: 0.5161\n",
      "Epoch 5/10\n",
      "622/622 [==============================] - 0s 104us/step - loss: 0.6753 - acc: 0.5273\n",
      "Epoch 6/10\n",
      "622/622 [==============================] - 0s 91us/step - loss: 0.6488 - acc: 0.5354\n",
      "Epoch 7/10\n",
      "622/622 [==============================] - 0s 92us/step - loss: 0.6245 - acc: 0.5611\n",
      "Epoch 8/10\n",
      "622/622 [==============================] - 0s 92us/step - loss: 0.6018 - acc: 0.5836\n",
      "Epoch 9/10\n",
      "622/622 [==============================] - 0s 92us/step - loss: 0.5798 - acc: 0.6077\n",
      "Epoch 10/10\n",
      "622/622 [==============================] - 0s 93us/step - loss: 0.5583 - acc: 0.6367\n"
     ]
    },
    {
     "data": {
      "text/plain": [
       "<keras.callbacks.History at 0xb2d2d90f0>"
      ]
     },
     "execution_count": 8,
     "metadata": {},
     "output_type": "execute_result"
    }
   ],
   "source": [
    "# Fit the model\n",
    "class_weight = {0: 1,\n",
    "                1: 5}\n",
    "model.fit(X_train, y_train, epochs=10, batch_size=10, class_weight=class_weight)"
   ]
  },
  {
   "cell_type": "code",
   "execution_count": 14,
   "metadata": {},
   "outputs": [],
   "source": [
    "model.save_weights(\"models/model.h5\")"
   ]
  },
  {
   "cell_type": "code",
   "execution_count": 10,
   "metadata": {},
   "outputs": [],
   "source": [
    "def binary_label(labels):\n",
    "    ans = []\n",
    "    for i in labels:\n",
    "        if i > 0.5:\n",
    "            ans.append(1)\n",
    "        else:\n",
    "            ans.append(0)\n",
    "            \n",
    "    return ans"
   ]
  },
  {
   "cell_type": "code",
   "execution_count": 11,
   "metadata": {},
   "outputs": [
    {
     "name": "stdout",
     "output_type": "stream",
     "text": [
      "validation accuracy:\n",
      "188/188 [==============================] - 0s 25us/step\n",
      "\n",
      "acc: 62.23%\n",
      "TP count:    92\n",
      "FP count:    69\n",
      "TN count:    25\n",
      "FN count:    2\n",
      "Precision rate:  0.5714285714285714\n",
      "Recall rate: 0.9787234042553191\n",
      "174/174 [==============================] - 0s 21us/step\n",
      "\n",
      "acc: 63.79%\n",
      "TP count:    87\n",
      "FP count:    63\n",
      "TN count:    24\n",
      "FN count:    0\n",
      "Precision rate:  0.58\n",
      "Recall rate: 1.0\n"
     ]
    }
   ],
   "source": [
    "from prec_recall import prec_recall\n",
    "\n",
    "print(\"validation accuracy:\")\n",
    "scores = model.evaluate(X_val, y_val)\n",
    "print(\"\\n%s: %.2f%%\" % (model.metrics_names[1], scores[1]*100))\n",
    "y_val_pred =  binary_label(model.predict(X_val))\n",
    "prec_recall(label=y_val, predict=y_val_pred)\n",
    "\n",
    "scores = model.evaluate(X_test, y_test)\n",
    "print(\"\\n%s: %.2f%%\" % (model.metrics_names[1], scores[1]*100))\n",
    "y_test_pred =  binary_label(model.predict(X_test))\n",
    "prec_recall(label=y_test, predict=y_test_pred)"
   ]
  },
  {
   "cell_type": "code",
   "execution_count": 12,
   "metadata": {},
   "outputs": [
    {
     "name": "stdout",
     "output_type": "stream",
     "text": [
      "[1, 0, 1, 1, 1, 0, 1, 0, 1, 1, 1, 1, 1, 0, 1, 1, 1, 1, 1, 0, 1, 0, 0, 1, 1, 1, 1, 1, 1, 1, 1, 0, 1, 1, 1, 1, 1, 1, 1, 1, 1, 0, 1, 1, 1, 0, 1, 0, 1, 1, 1, 1, 1, 1, 1, 1, 1, 1, 1, 1, 1, 0, 1, 1, 1, 1, 1, 0, 1, 0, 1, 1, 1, 1, 1, 0, 1, 1, 1, 1, 1, 1, 1, 1, 1, 1, 1, 1, 1, 1, 1, 1, 1, 0, 1, 1, 1, 1, 1, 1, 1, 1, 1, 1, 1, 1, 1, 1, 1, 1, 1, 1, 1, 0, 0, 0, 1, 0, 1, 0, 1, 1, 1, 1, 1, 1, 1, 0, 1, 1, 1, 1, 1, 1, 1, 0, 1, 1, 1, 1, 1, 0, 1, 1, 1, 0, 1, 1, 1, 1, 1, 1, 1, 1, 1, 1, 1, 1, 1, 1, 1, 1, 1, 1, 1, 1, 1, 1, 1, 1, 1, 1, 1, 0, 1, 0, 1, 1, 1, 1, 1, 1, 1, 1, 1, 1, 1, 1]\n"
     ]
    }
   ],
   "source": [
    "print(y_val_pred)"
   ]
  },
  {
   "cell_type": "code",
   "execution_count": null,
   "metadata": {},
   "outputs": [],
   "source": [
    "# calculate predictions\n",
    "predictions = model.predict(X)\n",
    "# round predictions\n",
    "rounded = [round(x[0]) for x in predictions]\n",
    "print(rounded)"
   ]
  },
  {
   "cell_type": "code",
   "execution_count": null,
   "metadata": {},
   "outputs": [],
   "source": [
    "model = Sequential()\n",
    "model.add(Dense(12, input_dim=8, activation='relu'))\n",
    "model.add(Dense(8, activation='relu'))\n",
    "model.add(Dense(1, activation='sigmoid'))\n",
    "model.compile(loss='binary_crossentropy', optimizer='adam', metrics=['accuracy'])\n",
    "model.load_weights(\"model.h5\")"
   ]
  },
  {
   "cell_type": "code",
   "execution_count": null,
   "metadata": {},
   "outputs": [],
   "source": [
    "scores = model.evaluate(X, Y)\n",
    "print(\"\\n%s: %.2f%%\" % (model.metrics_names[1], scores[1]*100))"
   ]
  },
  {
   "cell_type": "code",
   "execution_count": null,
   "metadata": {},
   "outputs": [],
   "source": []
  }
 ],
 "metadata": {
  "kernelspec": {
   "display_name": "Python 3",
   "language": "python",
   "name": "python3"
  },
  "language_info": {
   "codemirror_mode": {
    "name": "ipython",
    "version": 3
   },
   "file_extension": ".py",
   "mimetype": "text/x-python",
   "name": "python",
   "nbconvert_exporter": "python",
   "pygments_lexer": "ipython3",
   "version": "3.7.3"
  }
 },
 "nbformat": 4,
 "nbformat_minor": 2
}
