{
 "cells": [
  {
   "cell_type": "markdown",
   "metadata": {},
   "source": [
    "# Load data"
   ]
  },
  {
   "cell_type": "code",
   "execution_count": 6,
   "metadata": {},
   "outputs": [],
   "source": [
    "import numpy as np\n",
    "\n",
    "from linear_classifiers import *\n",
    "from prec_recall import prec_recall"
   ]
  },
  {
   "cell_type": "code",
   "execution_count": 7,
   "metadata": {},
   "outputs": [
    {
     "name": "stdout",
     "output_type": "stream",
     "text": [
      "shape: (622, 28)\n",
      "[[ 0.29015516  0.04924313 -0.74052367 ...  2.74526067 -0.2204016\n",
      "   0.16823274]\n",
      " [-1.61218737 -4.62014787 -0.28331816 ...  0.89152121 -0.31278271\n",
      "   0.26827516]\n",
      " [-4.28058383  1.42110001 -3.90822884 ... -1.14992267 -1.80988612\n",
      "   0.72305143]\n",
      " ...\n",
      " [ 1.23220629  0.26485221  0.42781704 ... -0.44599829  0.03289931\n",
      "   0.01365267]\n",
      " [ 1.20493424  3.23806951 -6.0103244  ...  0.05603474  0.49182782\n",
      "   0.34084669]\n",
      " [-0.32479146  1.08346101 -1.20520689 ...  0.07256116  0.48961806\n",
      "   0.33803559]]\n",
      "[ 0.29015516  0.04924313 -0.74052367  2.86546277  1.39529392 -0.53516328\n",
      "  0.14254337 -0.22276971 -1.46369065  1.71353755 -1.12757349 -0.70865735\n",
      "  0.27218608  0.27471029  0.23519195 -0.46355271  0.47299539 -0.44789916\n",
      "  1.79092415  0.24757953  0.33734885  1.01819058  0.30355001  0.83388612\n",
      " -1.2223061   2.74526067 -0.2204016   0.16823274]\n"
     ]
    }
   ],
   "source": [
    "option = \"subsample\"\n",
    "\n",
    "if option == \"subsample\":\n",
    "    X_train = np.load(\"../data/subsamp_data/processed_X_train.npy\")\n",
    "    X_val = np.load(\"../data/subsamp_data/processed_X_val.npy\")\n",
    "    X_test = np.load(\"../data/subsamp_data/processed_X_test.npy\")\n",
    "    y_train = np.load(\"../data/subsamp_data/processed_y_train.npy\")\n",
    "    y_val = np.load(\"../data/subsamp_data/processed_y_val.npy\")\n",
    "    y_test = np.load(\"../data/subsamp_data/processed_y_test.npy\")\n",
    "\n",
    "print(\"shape: {}\".format(X_train.shape))\n",
    "print(X_train)\n",
    "print(X_train[0])"
   ]
  },
  {
   "cell_type": "markdown",
   "metadata": {},
   "source": [
    "# Neural Networks"
   ]
  },
  {
   "cell_type": "code",
   "execution_count": 3,
   "metadata": {},
   "outputs": [
    {
     "name": "stderr",
     "output_type": "stream",
     "text": [
      "Using TensorFlow backend.\n",
      "/Users/wenqi/anaconda3/lib/python3.7/importlib/_bootstrap.py:219: RuntimeWarning: compiletime version 3.6 of module 'tensorflow.python.framework.fast_tensor_util' does not match runtime version 3.7\n",
      "  return f(*args, **kwds)\n"
     ]
    }
   ],
   "source": [
    "from keras.models import Sequential\n",
    "from keras.layers import Dense\n",
    "import numpy as np\n",
    "from prec_recall import prec_recall\n",
    "# fix random seed for reproducibility\n",
    "np.random.seed(7)"
   ]
  },
  {
   "cell_type": "code",
   "execution_count": 4,
   "metadata": {},
   "outputs": [
    {
     "name": "stdout",
     "output_type": "stream",
     "text": [
      "(28, 12)\n",
      "(12, 6)\n",
      "(6, 1)\n"
     ]
    }
   ],
   "source": [
    "weights = []\n",
    "biases = []\n",
    "\n",
    "for i in range(1, 4):\n",
    "    weights.append(np.load(\"../keras/models/w_{}.npy\".format(i)))\n",
    "    biases.append(np.load(\"../keras/models/b_{}.npy\".format(i)))\n",
    "    \n",
    "for w in weights:\n",
    "    print(w.shape)"
   ]
  },
  {
   "cell_type": "code",
   "execution_count": 8,
   "metadata": {},
   "outputs": [
    {
     "name": "stdout",
     "output_type": "stream",
     "text": [
      "[[1.]\n",
      " [0.]\n",
      " [1.]\n",
      " [1.]\n",
      " [1.]\n",
      " [0.]\n",
      " [1.]\n",
      " [0.]\n",
      " [1.]\n",
      " [1.]]\n",
      "TP count:    92\n",
      "FP count:    69\n",
      "TN count:    25\n",
      "FN count:    2\n",
      "Precision rate:  0.5714285714285714\n",
      "Recall rate: 0.9787234042553191\n"
     ]
    }
   ],
   "source": [
    "my_pred = neural_networks(X_val, weights, biases)\n",
    "print(my_pred[0:10])\n",
    "# print(my_pred)\n",
    "prec_recall(y_val, my_pred)"
   ]
  },
  {
   "cell_type": "markdown",
   "metadata": {},
   "source": [
    "# Logistic Regression"
   ]
  },
  {
   "cell_type": "code",
   "execution_count": 9,
   "metadata": {},
   "outputs": [
    {
     "name": "stdout",
     "output_type": "stream",
     "text": [
      "[1. 0. 1. 1. 1. 0. 1. 0. 1. 0.]\n",
      "TP count:    92\n",
      "FP count:    27\n",
      "TN count:    67\n",
      "FN count:    2\n",
      "Precision rate:  0.773109243697479\n",
      "Recall rate: 0.9787234042553191\n"
     ]
    }
   ],
   "source": [
    "w = np.load(\"../sklearn/model_LR/w.npy\")\n",
    "b = np.load(\"../sklearn/model_LR/b.npy\")\n",
    "\n",
    "my_pred = logistic_regression(X_val, w, b)\n",
    "print(my_pred[0:10])\n",
    "prec_recall(y_val, my_pred)"
   ]
  },
  {
   "cell_type": "markdown",
   "metadata": {},
   "source": [
    "# SVM"
   ]
  },
  {
   "cell_type": "code",
   "execution_count": 10,
   "metadata": {},
   "outputs": [
    {
     "name": "stdout",
     "output_type": "stream",
     "text": [
      "[1. 0. 1. 0. 1. 0. 1. 0. 1. 0.]\n",
      "TP count:    88\n",
      "FP count:    6\n",
      "TN count:    88\n",
      "FN count:    6\n",
      "Precision rate:  0.9361702127659575\n",
      "Recall rate: 0.9361702127659575\n"
     ]
    }
   ],
   "source": [
    "w = np.load(\"../sklearn/model_SVM/w.npy\")\n",
    "b = np.load(\"../sklearn/model_SVM/b.npy\")\n",
    "\n",
    "my_pred = logistic_regression(X_val, w, b)\n",
    "print(my_pred[0:10])\n",
    "prec_recall(y_val, my_pred)"
   ]
  },
  {
   "cell_type": "code",
   "execution_count": null,
   "metadata": {},
   "outputs": [],
   "source": []
  }
 ],
 "metadata": {
  "kernelspec": {
   "display_name": "Python 3",
   "language": "python",
   "name": "python3"
  },
  "language_info": {
   "codemirror_mode": {
    "name": "ipython",
    "version": 3
   },
   "file_extension": ".py",
   "mimetype": "text/x-python",
   "name": "python",
   "nbconvert_exporter": "python",
   "pygments_lexer": "ipython3",
   "version": "3.7.3"
  }
 },
 "nbformat": 4,
 "nbformat_minor": 2
}
