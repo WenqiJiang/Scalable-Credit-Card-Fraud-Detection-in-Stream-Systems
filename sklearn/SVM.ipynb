{
 "cells": [
  {
   "cell_type": "code",
   "execution_count": 9,
   "metadata": {},
   "outputs": [
    {
     "name": "stderr",
     "output_type": "stream",
     "text": [
      "/Users/wenqi/anaconda3/lib/python3.7/site-packages/sklearn/svm/base.py:931: ConvergenceWarning: Liblinear failed to converge, increase the number of iterations.\n",
      "  \"the number of iterations.\", ConvergenceWarning)\n"
     ]
    }
   ],
   "source": [
    "import numpy as np\n",
    "from sklearn.svm import LinearSVC\n",
    "\n",
    "use_origin = False\n",
    "\n",
    "# if use_origin = True, use original dataset\n",
    "if use_origin:\n",
    "    \n",
    "    train_features = np.load(\"../data/origin_data/X_train.npy\")\n",
    "    train_label = np.load(\"../data/origin_data/y_train.npy\")\n",
    "\n",
    "    val_features = np.load(\"../data/origin_data/X_val.npy\")\n",
    "    val_label = np.load(\"../data/origin_data/y_val.npy\")\n",
    "\n",
    "\n",
    "\n",
    "# if use_origin = False, use refined dataset\n",
    "else:\n",
    "\n",
    "    train_features = np.load(\"../data/subsamp_data/processed_X_train.npy\")\n",
    "    train_label = np.load(\"../data/subsamp_data/processed_y_train.npy\")\n",
    "\n",
    "    val_features = np.load(\"../data/subsamp_data/processed_X_val.npy\")\n",
    "    val_label = np.load(\"../data/subsamp_data/processed_y_val.npy\")\n",
    "\n",
    "svc = LinearSVC(C=100,class_weight = {0:1,1:100}).fit(train_features,train_label)"
   ]
  },
  {
   "cell_type": "code",
   "execution_count": 10,
   "metadata": {},
   "outputs": [
    {
     "data": {
      "text/plain": [
       "(622, 28)"
      ]
     },
     "execution_count": 10,
     "metadata": {},
     "output_type": "execute_result"
    }
   ],
   "source": [
    "train_features.shape"
   ]
  },
  {
   "cell_type": "code",
   "execution_count": 17,
   "metadata": {},
   "outputs": [
    {
     "name": "stdout",
     "output_type": "stream",
     "text": [
      "28\n",
      "[[-0.46334429  0.29000457 -1.18532253  0.76767731 -0.68865898 -0.28420259\n",
      "  -1.45100203  0.03251565 -0.84896178 -2.11502992  1.40531289 -2.20333497\n",
      "   0.00423171 -2.67338916 -0.06965317 -2.35527939 -3.98996751 -1.72457615\n",
      "   0.32696626  0.09934296  0.50024623 -0.02669449 -0.22235127 -0.25424928\n",
      "   0.33844094  0.14051455  0.56226326  0.3573059 ]]\n",
      "-0.7649092381957413\n"
     ]
    }
   ],
   "source": [
    "print(len(svc.coef_[0]))\n",
    "print(svc.coef_)\n",
    "\n",
    "np.save(\"model_SVM/w\", svc.coef_[0])\n",
    "np.save(\"model_SVM/b\", svc.intercept_[0])\n",
    "print(svc.intercept_[0])"
   ]
  },
  {
   "cell_type": "code",
   "execution_count": 15,
   "metadata": {},
   "outputs": [
    {
     "name": "stdout",
     "output_type": "stream",
     "text": [
      "TP count:    80\n",
      "FP count:    6\n",
      "TN count:    88\n",
      "FN count:    14\n",
      "Precision rate:  0.9302325581395349\n",
      "Recall rate: 0.851063829787234\n",
      "Mean score:  0.8936170212765957\n"
     ]
    }
   ],
   "source": [
    "val_label_predict = svc.predict(val_features)\n",
    "\n",
    "TP = 0\n",
    "FP = 0\n",
    "TN = 0\n",
    "FN = 0\n",
    "\n",
    "for index in range(len(val_label)):\n",
    "\n",
    "    # fraud transaction\n",
    "    if val_label[index] == 1:\n",
    "\n",
    "        if val_label_predict[index] == 1:\n",
    "            TP += 1\n",
    "        else:\n",
    "            FN += 1\n",
    "\n",
    "    # normal transaction  \n",
    "    else:\n",
    "        if val_label_predict[index] == 0:\n",
    "            TN += 1\n",
    "        else:\n",
    "            FP += 1\n",
    "\n",
    "print('TP count:    {}'.format(TP))\n",
    "print('FP count:    {}'.format(FP))\n",
    "print('TN count:    {}'.format(TN))\n",
    "print('FN count:    {}'.format(FN))\n",
    "\n",
    "print('Precision rate:  {}'.format(TP/(TP+FP)))\n",
    "print('Recall rate: {}'.format(TP/(TP+FN)))\n",
    "\n",
    "print('Mean score:  {}'.format(svc.score(val_features,val_label)))"
   ]
  },
  {
   "cell_type": "code",
   "execution_count": null,
   "metadata": {},
   "outputs": [],
   "source": []
  }
 ],
 "metadata": {
  "kernelspec": {
   "display_name": "Python 3",
   "language": "python",
   "name": "python3"
  },
  "language_info": {
   "codemirror_mode": {
    "name": "ipython",
    "version": 3
   },
   "file_extension": ".py",
   "mimetype": "text/x-python",
   "name": "python",
   "nbconvert_exporter": "python",
   "pygments_lexer": "ipython3",
   "version": "3.7.3"
  }
 },
 "nbformat": 4,
 "nbformat_minor": 2
}
