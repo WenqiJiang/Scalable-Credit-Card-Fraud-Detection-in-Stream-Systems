{
 "cells": [
  {
   "cell_type": "markdown",
   "metadata": {},
   "source": [
    "# Logistic Regression result"
   ]
  },
  {
   "cell_type": "markdown",
   "metadata": {},
   "source": [
    "## origin dataset\n",
    "\n",
    "best:   \n",
    "\n",
    "!python logistic_reg.py --dataset origin --fraud_weight 10  \n",
    "Precision rate:  0.7238095238095238  \n",
    "Recall rate: 0.8085106382978723  \n",
    "Accuracy：0.9991748885221726  "
   ]
  },
  {
   "cell_type": "code",
   "execution_count": 78,
   "metadata": {},
   "outputs": [
    {
     "name": "stdout",
     "output_type": "stream",
     "text": [
      "/Users/wenqi/anaconda3/lib/python3.7/site-packages/sklearn/linear_model/logistic.py:433: FutureWarning: Default solver will be changed to 'lbfgs' in 0.22. Specify a solver to silence this warning.\n",
      "  FutureWarning)\n",
      "TP count:    46\n",
      "FP count:    10\n",
      "TN count:    56858\n",
      "FN count:    48\n",
      "Precision rate:  0.8214285714285714\n",
      "Recall rate: 0.48936170212765956\n"
     ]
    }
   ],
   "source": [
    "!python logistic_reg.py --dataset origin --fraud_weight 0.5"
   ]
  },
  {
   "cell_type": "code",
   "execution_count": 79,
   "metadata": {},
   "outputs": [
    {
     "name": "stdout",
     "output_type": "stream",
     "text": [
      "/Users/wenqi/anaconda3/lib/python3.7/site-packages/sklearn/linear_model/logistic.py:433: FutureWarning: Default solver will be changed to 'lbfgs' in 0.22. Specify a solver to silence this warning.\n",
      "  FutureWarning)\n",
      "TP count:    56\n",
      "FP count:    13\n",
      "TN count:    56855\n",
      "FN count:    38\n",
      "Precision rate:  0.8115942028985508\n",
      "Recall rate: 0.5957446808510638\n"
     ]
    }
   ],
   "source": [
    "!python logistic_reg.py --dataset origin --fraud_weight 1"
   ]
  },
  {
   "cell_type": "code",
   "execution_count": 80,
   "metadata": {},
   "outputs": [
    {
     "name": "stdout",
     "output_type": "stream",
     "text": [
      "/Users/wenqi/anaconda3/lib/python3.7/site-packages/sklearn/linear_model/logistic.py:433: FutureWarning: Default solver will be changed to 'lbfgs' in 0.22. Specify a solver to silence this warning.\n",
      "  FutureWarning)\n",
      "TP count:    73\n",
      "FP count:    26\n",
      "TN count:    56842\n",
      "FN count:    21\n",
      "Precision rate:  0.7373737373737373\n",
      "Recall rate: 0.776595744680851\n"
     ]
    }
   ],
   "source": [
    "!python logistic_reg.py --dataset origin --fraud_weight 5"
   ]
  },
  {
   "cell_type": "code",
   "execution_count": 117,
   "metadata": {},
   "outputs": [
    {
     "name": "stdout",
     "output_type": "stream",
     "text": [
      "/Users/wenqi/anaconda3/lib/python3.7/site-packages/sklearn/linear_model/logistic.py:433: FutureWarning: Default solver will be changed to 'lbfgs' in 0.22. Specify a solver to silence this warning.\n",
      "  FutureWarning)\n",
      "time consumed: 0.005075009000000019\n",
      "TP count:    76\n",
      "FP count:    29\n",
      "TN count:    56839\n",
      "FN count:    18\n",
      "Precision rate:  0.7238095238095238\n",
      "Recall rate: 0.8085106382978723\n",
      "Accuracy：0.9991748885221726\n"
     ]
    }
   ],
   "source": [
    "# best one\n",
    "!python logistic_reg.py --dataset origin --fraud_weight 10"
   ]
  },
  {
   "cell_type": "code",
   "execution_count": 82,
   "metadata": {},
   "outputs": [
    {
     "name": "stdout",
     "output_type": "stream",
     "text": [
      "/Users/wenqi/anaconda3/lib/python3.7/site-packages/sklearn/linear_model/logistic.py:433: FutureWarning: Default solver will be changed to 'lbfgs' in 0.22. Specify a solver to silence this warning.\n",
      "  FutureWarning)\n",
      "TP count:    81\n",
      "FP count:    161\n",
      "TN count:    56707\n",
      "FN count:    13\n",
      "Precision rate:  0.3347107438016529\n",
      "Recall rate: 0.8617021276595744\n"
     ]
    }
   ],
   "source": [
    "!python logistic_reg.py --dataset origin --fraud_weight 100"
   ]
  },
  {
   "cell_type": "code",
   "execution_count": 83,
   "metadata": {},
   "outputs": [
    {
     "name": "stdout",
     "output_type": "stream",
     "text": [
      "/Users/wenqi/anaconda3/lib/python3.7/site-packages/sklearn/linear_model/logistic.py:433: FutureWarning: Default solver will be changed to 'lbfgs' in 0.22. Specify a solver to silence this warning.\n",
      "  FutureWarning)\n",
      "TP count:    89\n",
      "FP count:    2403\n",
      "TN count:    54465\n",
      "FN count:    5\n",
      "Precision rate:  0.03571428571428571\n",
      "Recall rate: 0.9468085106382979\n"
     ]
    }
   ],
   "source": [
    "!python logistic_reg.py --dataset origin --fraud_weight 1000"
   ]
  },
  {
   "cell_type": "code",
   "execution_count": 84,
   "metadata": {},
   "outputs": [
    {
     "name": "stdout",
     "output_type": "stream",
     "text": [
      "/Users/wenqi/anaconda3/lib/python3.7/site-packages/sklearn/linear_model/logistic.py:433: FutureWarning: Default solver will be changed to 'lbfgs' in 0.22. Specify a solver to silence this warning.\n",
      "  FutureWarning)\n",
      "TP count:    91\n",
      "FP count:    17605\n",
      "TN count:    39263\n",
      "FN count:    3\n",
      "Precision rate:  0.005142405063291139\n",
      "Recall rate: 0.9680851063829787\n"
     ]
    }
   ],
   "source": [
    "!python logistic_reg.py --dataset origin --fraud_weight 10000"
   ]
  },
  {
   "cell_type": "markdown",
   "metadata": {},
   "source": [
    "## subsample dataset\n",
    "best:\n",
    "\n",
    "!python logistic_reg.py --dataset subsample --fraud_weight 0.0005  \n",
    "Precision rate:  0.5793650793650794  \n",
    "Recall rate: 0.776595744680851  \n",
    "Accuracy：0.9987008883115059  "
   ]
  },
  {
   "cell_type": "code",
   "execution_count": 95,
   "metadata": {},
   "outputs": [
    {
     "name": "stdout",
     "output_type": "stream",
     "text": [
      "/Users/wenqi/anaconda3/lib/python3.7/site-packages/sklearn/linear_model/logistic.py:433: FutureWarning: Default solver will be changed to 'lbfgs' in 0.22. Specify a solver to silence this warning.\n",
      "  FutureWarning)\n",
      "TP count:    73\n",
      "FP count:    53\n",
      "TN count:    56815\n",
      "FN count:    21\n",
      "Precision rate:  0.5793650793650794\n",
      "Recall rate: 0.776595744680851\n",
      "Accuracy：0.9987008883115059\n"
     ]
    }
   ],
   "source": [
    "!python logistic_reg.py --dataset subsample --fraud_weight 0.0005"
   ]
  },
  {
   "cell_type": "code",
   "execution_count": 94,
   "metadata": {},
   "outputs": [
    {
     "name": "stdout",
     "output_type": "stream",
     "text": [
      "/Users/wenqi/anaconda3/lib/python3.7/site-packages/sklearn/linear_model/logistic.py:433: FutureWarning: Default solver will be changed to 'lbfgs' in 0.22. Specify a solver to silence this warning.\n",
      "  FutureWarning)\n",
      "TP count:    74\n",
      "FP count:    76\n",
      "TN count:    56792\n",
      "FN count:    20\n",
      "Precision rate:  0.49333333333333335\n",
      "Recall rate: 0.7872340425531915\n",
      "Accuracy：0.9983146659176293\n"
     ]
    }
   ],
   "source": [
    "!python logistic_reg.py --dataset subsample --fraud_weight 0.001"
   ]
  },
  {
   "cell_type": "code",
   "execution_count": 85,
   "metadata": {},
   "outputs": [
    {
     "name": "stdout",
     "output_type": "stream",
     "text": [
      "/Users/wenqi/anaconda3/lib/python3.7/site-packages/sklearn/linear_model/logistic.py:433: FutureWarning: Default solver will be changed to 'lbfgs' in 0.22. Specify a solver to silence this warning.\n",
      "  FutureWarning)\n",
      "TP count:    75\n",
      "FP count:    134\n",
      "TN count:    56734\n",
      "FN count:    19\n",
      "Precision rate:  0.3588516746411483\n",
      "Recall rate: 0.7978723404255319\n"
     ]
    }
   ],
   "source": [
    "!python logistic_reg.py --dataset subsample --fraud_weight 0.005"
   ]
  },
  {
   "cell_type": "code",
   "execution_count": 86,
   "metadata": {},
   "outputs": [
    {
     "name": "stdout",
     "output_type": "stream",
     "text": [
      "/Users/wenqi/anaconda3/lib/python3.7/site-packages/sklearn/linear_model/logistic.py:433: FutureWarning: Default solver will be changed to 'lbfgs' in 0.22. Specify a solver to silence this warning.\n",
      "  FutureWarning)\n",
      "TP count:    77\n",
      "FP count:    154\n",
      "TN count:    56714\n",
      "FN count:    17\n",
      "Precision rate:  0.3333333333333333\n",
      "Recall rate: 0.8191489361702128\n"
     ]
    }
   ],
   "source": [
    "!python logistic_reg.py --dataset subsample --fraud_weight 0.01"
   ]
  },
  {
   "cell_type": "code",
   "execution_count": 87,
   "metadata": {},
   "outputs": [
    {
     "name": "stdout",
     "output_type": "stream",
     "text": [
      "/Users/wenqi/anaconda3/lib/python3.7/site-packages/sklearn/linear_model/logistic.py:433: FutureWarning: Default solver will be changed to 'lbfgs' in 0.22. Specify a solver to silence this warning.\n",
      "  FutureWarning)\n",
      "TP count:    77\n",
      "FP count:    228\n",
      "TN count:    56640\n",
      "FN count:    17\n",
      "Precision rate:  0.25245901639344265\n",
      "Recall rate: 0.8191489361702128\n"
     ]
    }
   ],
   "source": [
    "!python logistic_reg.py --dataset subsample --fraud_weight 0.1"
   ]
  },
  {
   "cell_type": "code",
   "execution_count": 88,
   "metadata": {},
   "outputs": [
    {
     "name": "stdout",
     "output_type": "stream",
     "text": [
      "/Users/wenqi/anaconda3/lib/python3.7/site-packages/sklearn/linear_model/logistic.py:433: FutureWarning: Default solver will be changed to 'lbfgs' in 0.22. Specify a solver to silence this warning.\n",
      "  FutureWarning)\n",
      "TP count:    83\n",
      "FP count:    679\n",
      "TN count:    56189\n",
      "FN count:    11\n",
      "Precision rate:  0.1089238845144357\n",
      "Recall rate: 0.8829787234042553\n"
     ]
    }
   ],
   "source": [
    "!python logistic_reg.py --dataset subsample --fraud_weight 0.5"
   ]
  },
  {
   "cell_type": "code",
   "execution_count": 89,
   "metadata": {},
   "outputs": [
    {
     "name": "stdout",
     "output_type": "stream",
     "text": [
      "/Users/wenqi/anaconda3/lib/python3.7/site-packages/sklearn/linear_model/logistic.py:433: FutureWarning: Default solver will be changed to 'lbfgs' in 0.22. Specify a solver to silence this warning.\n",
      "  FutureWarning)\n",
      "TP count:    87\n",
      "FP count:    1351\n",
      "TN count:    55517\n",
      "FN count:    7\n",
      "Precision rate:  0.06050069541029207\n",
      "Recall rate: 0.925531914893617\n"
     ]
    }
   ],
   "source": [
    "!python logistic_reg.py --dataset subsample --fraud_weight 1"
   ]
  },
  {
   "cell_type": "code",
   "execution_count": 90,
   "metadata": {},
   "outputs": [
    {
     "name": "stdout",
     "output_type": "stream",
     "text": [
      "/Users/wenqi/anaconda3/lib/python3.7/site-packages/sklearn/linear_model/logistic.py:433: FutureWarning: Default solver will be changed to 'lbfgs' in 0.22. Specify a solver to silence this warning.\n",
      "  FutureWarning)\n",
      "TP count:    90\n",
      "FP count:    7378\n",
      "TN count:    49490\n",
      "FN count:    4\n",
      "Precision rate:  0.012051419389394752\n",
      "Recall rate: 0.9574468085106383\n"
     ]
    }
   ],
   "source": [
    "!python logistic_reg.py --dataset subsample --fraud_weight 5"
   ]
  },
  {
   "cell_type": "code",
   "execution_count": 91,
   "metadata": {},
   "outputs": [
    {
     "name": "stdout",
     "output_type": "stream",
     "text": [
      "/Users/wenqi/anaconda3/lib/python3.7/site-packages/sklearn/linear_model/logistic.py:433: FutureWarning: Default solver will be changed to 'lbfgs' in 0.22. Specify a solver to silence this warning.\n",
      "  FutureWarning)\n",
      "TP count:    92\n",
      "FP count:    13749\n",
      "TN count:    43119\n",
      "FN count:    2\n",
      "Precision rate:  0.006646918575247453\n",
      "Recall rate: 0.9787234042553191\n"
     ]
    }
   ],
   "source": [
    "!python logistic_reg.py --dataset subsample --fraud_weight 10"
   ]
  },
  {
   "cell_type": "markdown",
   "metadata": {},
   "source": [
    "# SVM result"
   ]
  },
  {
   "cell_type": "markdown",
   "metadata": {},
   "source": [
    "## origin dataset\n",
    "\n",
    "best: \n",
    "!python SVM.py --dataset origin --fraud_weight 5  \n",
    "Precision rate:  0.8021978021978022\n",
    "Recall rate: 0.776595744680851\n",
    "Accuracy：0.9993153330290369"
   ]
  },
  {
   "cell_type": "code",
   "execution_count": 96,
   "metadata": {},
   "outputs": [
    {
     "name": "stdout",
     "output_type": "stream",
     "text": [
      "/Users/wenqi/anaconda3/lib/python3.7/site-packages/sklearn/svm/base.py:931: ConvergenceWarning: Liblinear failed to converge, increase the number of iterations.\n",
      "  \"the number of iterations.\", ConvergenceWarning)\n",
      "TP count:    0\n",
      "FP count:    0\n",
      "TN count:    56868\n",
      "FN count:    94\n",
      "Traceback (most recent call last):\n",
      "  File \"SVM.py\", line 40, in <module>\n",
      "    prec_recall(y_val, val_label_predict)\n",
      "  File \"/Users/wenqi/home/Scalable-Credit-Card-Fraud-Detection-in-Stream-Systems/sklearn/prec_recall.py\", line 34, in prec_recall\n",
      "    print('Precision rate:  {}'.format(TP/(TP+FP)))\n",
      "ZeroDivisionError: division by zero\n"
     ]
    }
   ],
   "source": [
    "!python SVM.py --dataset origin --fraud_weight 0.001"
   ]
  },
  {
   "cell_type": "code",
   "execution_count": 97,
   "metadata": {},
   "outputs": [
    {
     "name": "stdout",
     "output_type": "stream",
     "text": [
      "/Users/wenqi/anaconda3/lib/python3.7/site-packages/sklearn/svm/base.py:931: ConvergenceWarning: Liblinear failed to converge, increase the number of iterations.\n",
      "  \"the number of iterations.\", ConvergenceWarning)\n",
      "TP count:    0\n",
      "FP count:    0\n",
      "TN count:    56868\n",
      "FN count:    94\n",
      "Traceback (most recent call last):\n",
      "  File \"SVM.py\", line 40, in <module>\n",
      "    prec_recall(y_val, val_label_predict)\n",
      "  File \"/Users/wenqi/home/Scalable-Credit-Card-Fraud-Detection-in-Stream-Systems/sklearn/prec_recall.py\", line 34, in prec_recall\n",
      "    print('Precision rate:  {}'.format(TP/(TP+FP)))\n",
      "ZeroDivisionError: division by zero\n"
     ]
    }
   ],
   "source": [
    "!python SVM.py --dataset origin --fraud_weight 0.005"
   ]
  },
  {
   "cell_type": "code",
   "execution_count": 98,
   "metadata": {},
   "outputs": [
    {
     "name": "stdout",
     "output_type": "stream",
     "text": [
      "/Users/wenqi/anaconda3/lib/python3.7/site-packages/sklearn/svm/base.py:931: ConvergenceWarning: Liblinear failed to converge, increase the number of iterations.\n",
      "  \"the number of iterations.\", ConvergenceWarning)\n",
      "TP count:    43\n",
      "FP count:    14\n",
      "TN count:    56854\n",
      "FN count:    51\n",
      "Precision rate:  0.7543859649122807\n",
      "Recall rate: 0.4574468085106383\n",
      "Accuracy：0.9988588883817282\n"
     ]
    }
   ],
   "source": [
    "!python SVM.py --dataset origin --fraud_weight 0.1"
   ]
  },
  {
   "cell_type": "code",
   "execution_count": 99,
   "metadata": {},
   "outputs": [
    {
     "name": "stdout",
     "output_type": "stream",
     "text": [
      "/Users/wenqi/anaconda3/lib/python3.7/site-packages/sklearn/svm/base.py:931: ConvergenceWarning: Liblinear failed to converge, increase the number of iterations.\n",
      "  \"the number of iterations.\", ConvergenceWarning)\n",
      "TP count:    63\n",
      "FP count:    12\n",
      "TN count:    56856\n",
      "FN count:    31\n",
      "Precision rate:  0.84\n",
      "Recall rate: 0.6702127659574468\n",
      "Accuracy：0.9992451107756047\n"
     ]
    }
   ],
   "source": [
    "!python SVM.py --dataset origin --fraud_weight 0.3"
   ]
  },
  {
   "cell_type": "code",
   "execution_count": 100,
   "metadata": {},
   "outputs": [
    {
     "name": "stdout",
     "output_type": "stream",
     "text": [
      "/Users/wenqi/anaconda3/lib/python3.7/site-packages/sklearn/svm/base.py:931: ConvergenceWarning: Liblinear failed to converge, increase the number of iterations.\n",
      "  \"the number of iterations.\", ConvergenceWarning)\n",
      "TP count:    67\n",
      "FP count:    12\n",
      "TN count:    56856\n",
      "FN count:    27\n",
      "Precision rate:  0.8481012658227848\n",
      "Recall rate: 0.7127659574468085\n",
      "Accuracy：0.9993153330290369\n"
     ]
    }
   ],
   "source": [
    "!python SVM.py --dataset origin --fraud_weight 0.5"
   ]
  },
  {
   "cell_type": "code",
   "execution_count": 109,
   "metadata": {},
   "outputs": [
    {
     "name": "stdout",
     "output_type": "stream",
     "text": [
      "/Users/wenqi/anaconda3/lib/python3.7/site-packages/sklearn/svm/base.py:931: ConvergenceWarning: Liblinear failed to converge, increase the number of iterations.\n",
      "  \"the number of iterations.\", ConvergenceWarning)\n",
      "TP count:    69\n",
      "FP count:    15\n",
      "TN count:    56853\n",
      "FN count:    25\n",
      "Precision rate:  0.8214285714285714\n",
      "Recall rate: 0.7340425531914894\n",
      "Accuracy：0.9992977774656788\n"
     ]
    }
   ],
   "source": [
    "!python SVM.py --dataset origin --fraud_weight 1"
   ]
  },
  {
   "cell_type": "code",
   "execution_count": 115,
   "metadata": {},
   "outputs": [
    {
     "name": "stdout",
     "output_type": "stream",
     "text": [
      "/Users/wenqi/anaconda3/lib/python3.7/site-packages/sklearn/svm/base.py:931: ConvergenceWarning: Liblinear failed to converge, increase the number of iterations.\n",
      "  \"the number of iterations.\", ConvergenceWarning)\n",
      "TP count:    73\n",
      "FP count:    18\n",
      "TN count:    56850\n",
      "FN count:    21\n",
      "Precision rate:  0.8021978021978022\n",
      "Recall rate: 0.776595744680851\n",
      "Accuracy：0.9993153330290369\n"
     ]
    }
   ],
   "source": [
    "!python SVM.py --dataset origin --fraud_weight 5"
   ]
  },
  {
   "cell_type": "code",
   "execution_count": 101,
   "metadata": {},
   "outputs": [
    {
     "name": "stdout",
     "output_type": "stream",
     "text": [
      "/Users/wenqi/anaconda3/lib/python3.7/site-packages/sklearn/svm/base.py:931: ConvergenceWarning: Liblinear failed to converge, increase the number of iterations.\n",
      "  \"the number of iterations.\", ConvergenceWarning)\n",
      "TP count:    41\n",
      "FP count:    119\n",
      "TN count:    56749\n",
      "FN count:    53\n",
      "Precision rate:  0.25625\n",
      "Recall rate: 0.43617021276595747\n",
      "Accuracy：0.9969804431024192\n"
     ]
    }
   ],
   "source": [
    "!python SVM.py --dataset origin --fraud_weight 10"
   ]
  },
  {
   "cell_type": "markdown",
   "metadata": {},
   "source": [
    "## subsample dataset\n",
    "best:\n",
    "recision rate:  0.7047619047619048\n",
    "Recall rate: 0.7872340425531915"
   ]
  },
  {
   "cell_type": "code",
   "execution_count": 116,
   "metadata": {},
   "outputs": [
    {
     "name": "stdout",
     "output_type": "stream",
     "text": [
      "/Users/wenqi/anaconda3/lib/python3.7/site-packages/sklearn/svm/base.py:931: ConvergenceWarning: Liblinear failed to converge, increase the number of iterations.\n",
      "  \"the number of iterations.\", ConvergenceWarning)\n",
      "TP count:    74\n",
      "FP count:    22\n",
      "TN count:    56846\n",
      "FN count:    20\n",
      "Precision rate:  0.7708333333333334\n",
      "Recall rate: 0.7872340425531915\n",
      "Accuracy：0.9992626663389628\n"
     ]
    }
   ],
   "source": [
    "!python SVM.py --dataset subsample --fraud_weight 0.0001"
   ]
  },
  {
   "cell_type": "code",
   "execution_count": 103,
   "metadata": {},
   "outputs": [
    {
     "name": "stdout",
     "output_type": "stream",
     "text": [
      "/Users/wenqi/anaconda3/lib/python3.7/site-packages/sklearn/svm/base.py:931: ConvergenceWarning: Liblinear failed to converge, increase the number of iterations.\n",
      "  \"the number of iterations.\", ConvergenceWarning)\n",
      "TP count:    74\n",
      "FP count:    69\n",
      "TN count:    56799\n",
      "FN count:    20\n",
      "Precision rate:  0.5174825174825175\n",
      "Recall rate: 0.7872340425531915\n",
      "Accuracy：0.9984375548611355\n"
     ]
    }
   ],
   "source": [
    "#### this one Recall rate: 0.7872340425531915\n",
    "!python SVM.py --dataset subsample --fraud_weight 0.0005"
   ]
  },
  {
   "cell_type": "code",
   "execution_count": 104,
   "metadata": {},
   "outputs": [
    {
     "name": "stdout",
     "output_type": "stream",
     "text": [
      "/Users/wenqi/anaconda3/lib/python3.7/site-packages/sklearn/svm/base.py:931: ConvergenceWarning: Liblinear failed to converge, increase the number of iterations.\n",
      "  \"the number of iterations.\", ConvergenceWarning)\n",
      "TP count:    74\n",
      "FP count:    86\n",
      "TN count:    56782\n",
      "FN count:    20\n",
      "Precision rate:  0.4625\n",
      "Recall rate: 0.7872340425531915\n",
      "Accuracy：0.998139110284049\n"
     ]
    }
   ],
   "source": [
    "!python SVM.py --dataset subsample --fraud_weight 0.001"
   ]
  },
  {
   "cell_type": "code",
   "execution_count": 63,
   "metadata": {},
   "outputs": [
    {
     "name": "stdout",
     "output_type": "stream",
     "text": [
      "/Users/wenqi/anaconda3/lib/python3.7/site-packages/sklearn/svm/base.py:931: ConvergenceWarning: Liblinear failed to converge, increase the number of iterations.\n",
      "  \"the number of iterations.\", ConvergenceWarning)\n",
      "TP count:    74\n",
      "FP count:    89\n",
      "TN count:    56779\n",
      "FN count:    20\n",
      "Precision rate:  0.4539877300613497\n",
      "Recall rate: 0.7872340425531915\n"
     ]
    }
   ],
   "source": [
    "!python SVM.py --dataset subsample --fraud_weight 0.01"
   ]
  },
  {
   "cell_type": "code",
   "execution_count": 50,
   "metadata": {},
   "outputs": [
    {
     "name": "stdout",
     "output_type": "stream",
     "text": [
      "/Users/wenqi/anaconda3/lib/python3.7/site-packages/sklearn/svm/base.py:931: ConvergenceWarning: Liblinear failed to converge, increase the number of iterations.\n",
      "  \"the number of iterations.\", ConvergenceWarning)\n",
      "TP count:    77\n",
      "FP count:    304\n",
      "TN count:    56564\n",
      "FN count:    17\n",
      "Precision rate:  0.2020997375328084\n",
      "Recall rate: 0.8191489361702128\n"
     ]
    }
   ],
   "source": [
    "!python SVM.py --dataset subsample --fraud_weight 0.1"
   ]
  },
  {
   "cell_type": "code",
   "execution_count": 51,
   "metadata": {},
   "outputs": [
    {
     "name": "stdout",
     "output_type": "stream",
     "text": [
      "/Users/wenqi/anaconda3/lib/python3.7/site-packages/sklearn/svm/base.py:931: ConvergenceWarning: Liblinear failed to converge, increase the number of iterations.\n",
      "  \"the number of iterations.\", ConvergenceWarning)\n",
      "TP count:    79\n",
      "FP count:    751\n",
      "TN count:    56117\n",
      "FN count:    15\n",
      "Precision rate:  0.09518072289156626\n",
      "Recall rate: 0.8404255319148937\n"
     ]
    }
   ],
   "source": [
    "!python SVM.py --dataset subsample --fraud_weight 0.5"
   ]
  },
  {
   "cell_type": "code",
   "execution_count": 45,
   "metadata": {},
   "outputs": [
    {
     "name": "stdout",
     "output_type": "stream",
     "text": [
      "/Users/wenqi/anaconda3/lib/python3.7/site-packages/sklearn/svm/base.py:931: ConvergenceWarning: Liblinear failed to converge, increase the number of iterations.\n",
      "  \"the number of iterations.\", ConvergenceWarning)\n",
      "TP count:    88\n",
      "FP count:    2140\n",
      "TN count:    54728\n",
      "FN count:    6\n",
      "Precision rate:  0.03949730700179533\n",
      "Recall rate: 0.9361702127659575\n"
     ]
    }
   ],
   "source": [
    "!python SVM.py --dataset subsample --fraud_weight 1"
   ]
  },
  {
   "cell_type": "code",
   "execution_count": 46,
   "metadata": {},
   "outputs": [
    {
     "name": "stdout",
     "output_type": "stream",
     "text": [
      "/Users/wenqi/anaconda3/lib/python3.7/site-packages/sklearn/svm/base.py:931: ConvergenceWarning: Liblinear failed to converge, increase the number of iterations.\n",
      "  \"the number of iterations.\", ConvergenceWarning)\n",
      "TP count:    89\n",
      "FP count:    6506\n",
      "TN count:    50362\n",
      "FN count:    5\n",
      "Precision rate:  0.013495072024260804\n",
      "Recall rate: 0.9468085106382979\n"
     ]
    }
   ],
   "source": [
    "!python SVM.py --dataset subsample --fraud_weight 5"
   ]
  },
  {
   "cell_type": "code",
   "execution_count": 118,
   "metadata": {},
   "outputs": [
    {
     "name": "stdout",
     "output_type": "stream",
     "text": [
      "/Users/wenqi/anaconda3/lib/python3.7/site-packages/sklearn/svm/base.py:931: ConvergenceWarning: Liblinear failed to converge, increase the number of iterations.\n",
      "  \"the number of iterations.\", ConvergenceWarning)\n",
      "time consumed: 0.0041208219999999685\n",
      "TP count:    88\n",
      "FP count:    8861\n",
      "TN count:    48007\n",
      "FN count:    6\n",
      "Precision rate:  0.009833500949826796\n",
      "Recall rate: 0.9361702127659575\n",
      "Accuracy：0.8443348197043643\n"
     ]
    }
   ],
   "source": [
    "!python SVM.py --dataset subsample --fraud_weight 10"
   ]
  },
  {
   "cell_type": "code",
   "execution_count": null,
   "metadata": {},
   "outputs": [],
   "source": []
  },
  {
   "cell_type": "code",
   "execution_count": 6,
   "metadata": {},
   "outputs": [
    {
     "name": "stdout",
     "output_type": "stream",
     "text": [
      "time:\t0.008481062999999955\r\n",
      "result:\t[1 0 1 0 1 0 1 0 1 0]\r\n",
      "TP count:    89\r\n",
      "FP count:    14\r\n",
      "TN count:    80\r\n",
      "FN count:    5\r\n",
      "Precision rate:  0.8640776699029126\r\n",
      "Recall rate: 0.9468085106382979\r\n",
      "Mean score:  0.898936170212766\r\n"
     ]
    }
   ],
   "source": [
    "!python RandomForest.py"
   ]
  },
  {
   "cell_type": "markdown",
   "metadata": {},
   "source": [
    "# kNN result"
   ]
  },
  {
   "cell_type": "code",
   "execution_count": 112,
   "metadata": {},
   "outputs": [
    {
     "name": "stdout",
     "output_type": "stream",
     "text": [
      "time:\t103.176996203\n",
      "result:\t[0 0 0 0 0 0 0 0 0 0]\n",
      "TP count:    69\n",
      "FP count:    13\n",
      "TN count:    56855\n",
      "FN count:    25\n",
      "Precision rate:  0.8414634146341463\n",
      "Recall rate: 0.7340425531914894\n",
      "Accuracy：0.9993328885923949\n"
     ]
    }
   ],
   "source": [
    "!python knn.py --dataset origin"
   ]
  },
  {
   "cell_type": "code",
   "execution_count": 113,
   "metadata": {},
   "outputs": [
    {
     "name": "stdout",
     "output_type": "stream",
     "text": [
      "time:\t2.053465976\n",
      "result:\t[0 0 0 0 0 0 0 0 0 0]\n",
      "TP count:    81\n",
      "FP count:    910\n",
      "TN count:    55958\n",
      "FN count:    13\n",
      "Precision rate:  0.08173562058526741\n",
      "Recall rate: 0.8617021276595744\n",
      "Accuracy：0.98379621502054\n"
     ]
    }
   ],
   "source": [
    "!python knn.py --dataset subsample"
   ]
  },
  {
   "cell_type": "markdown",
   "metadata": {},
   "source": [
    "# Random Forest result"
   ]
  },
  {
   "cell_type": "markdown",
   "metadata": {},
   "source": [
    "## origin"
   ]
  },
  {
   "cell_type": "code",
   "execution_count": 121,
   "metadata": {},
   "outputs": [
    {
     "name": "stdout",
     "output_type": "stream",
     "text": [
      "time consumed: 0.27396105100000057\n",
      "TP count:    70\n",
      "FP count:    10\n",
      "TN count:    56858\n",
      "FN count:    24\n",
      "Precision rate:  0.875\n",
      "Recall rate: 0.7446808510638298\n",
      "Accuracy：0.999403110845827\n"
     ]
    }
   ],
   "source": [
    "!python RandomForest.py --dataset origin --fraud_weight 1 --n_estimators 100 --max_depth 10"
   ]
  },
  {
   "cell_type": "code",
   "execution_count": 131,
   "metadata": {},
   "outputs": [
    {
     "name": "stdout",
     "output_type": "stream",
     "text": [
      "time consumed: 0.03745109699999993\n",
      "TP count:    70\n",
      "FP count:    7\n",
      "TN count:    56861\n",
      "FN count:    24\n",
      "Precision rate:  0.9090909090909091\n",
      "Recall rate: 0.7446808510638298\n",
      "Accuracy：0.9994557775359011\n"
     ]
    }
   ],
   "source": [
    "!python RandomForest.py --dataset origin --fraud_weight 1 --n_estimators 10 --max_depth 10"
   ]
  },
  {
   "cell_type": "code",
   "execution_count": 135,
   "metadata": {},
   "outputs": [
    {
     "name": "stdout",
     "output_type": "stream",
     "text": [
      "time consumed: 0.3013742210000032\n",
      "TP count:    71\n",
      "FP count:    9\n",
      "TN count:    56859\n",
      "FN count:    23\n",
      "Precision rate:  0.8875\n",
      "Recall rate: 0.7553191489361702\n",
      "Accuracy：0.9994382219725431\n"
     ]
    }
   ],
   "source": [
    "!python RandomForest.py --dataset origin --fraud_weight 10 --n_estimators 100 --max_depth 10"
   ]
  },
  {
   "cell_type": "code",
   "execution_count": 134,
   "metadata": {},
   "outputs": [
    {
     "name": "stdout",
     "output_type": "stream",
     "text": [
      "time consumed: 0.034107109999999\n",
      "TP count:    72\n",
      "FP count:    8\n",
      "TN count:    56860\n",
      "FN count:    22\n",
      "Precision rate:  0.9\n",
      "Recall rate: 0.7659574468085106\n",
      "Accuracy：0.9994733330992591\n"
     ]
    }
   ],
   "source": [
    "!python RandomForest.py --dataset origin --fraud_weight 10 --n_estimators 10 --max_depth 10"
   ]
  },
  {
   "cell_type": "code",
   "execution_count": 136,
   "metadata": {},
   "outputs": [
    {
     "name": "stdout",
     "output_type": "stream",
     "text": [
      "time consumed: 0.03597039000000102\n",
      "TP count:    73\n",
      "FP count:    14\n",
      "TN count:    56854\n",
      "FN count:    21\n",
      "Precision rate:  0.8390804597701149\n",
      "Recall rate: 0.776595744680851\n",
      "Accuracy：0.999385555282469\n"
     ]
    }
   ],
   "source": [
    "!python RandomForest.py --dataset origin --fraud_weight 100 --n_estimators 10 --max_depth 10"
   ]
  },
  {
   "cell_type": "code",
   "execution_count": 141,
   "metadata": {},
   "outputs": [
    {
     "name": "stdout",
     "output_type": "stream",
     "text": [
      "time consumed: 0.03224829000000007\n",
      "TP count:    73\n",
      "FP count:    17\n",
      "TN count:    56851\n",
      "FN count:    21\n",
      "Precision rate:  0.8111111111111111\n",
      "Recall rate: 0.776595744680851\n",
      "Accuracy：0.9993328885923949\n"
     ]
    }
   ],
   "source": [
    "# best\n",
    "!python RandomForest.py --dataset origin --fraud_weight 1000 --n_estimators 10 --max_depth 10"
   ]
  },
  {
   "cell_type": "code",
   "execution_count": 144,
   "metadata": {},
   "outputs": [
    {
     "name": "stdout",
     "output_type": "stream",
     "text": [
      "time consumed: 0.03831567699999994\n",
      "TP count:    78\n",
      "FP count:    110\n",
      "TN count:    56758\n",
      "FN count:    16\n",
      "Precision rate:  0.4148936170212766\n",
      "Recall rate: 0.8297872340425532\n",
      "Accuracy：0.9977879990168884\n"
     ]
    }
   ],
   "source": [
    "!python RandomForest.py --dataset origin --fraud_weight 5000 --n_estimators 10 --max_depth 10"
   ]
  },
  {
   "cell_type": "code",
   "execution_count": 138,
   "metadata": {},
   "outputs": [
    {
     "name": "stdout",
     "output_type": "stream",
     "text": [
      "time consumed: 0.03407728799999976\n",
      "TP count:    78\n",
      "FP count:    177\n",
      "TN count:    56691\n",
      "FN count:    16\n",
      "Precision rate:  0.3058823529411765\n",
      "Recall rate: 0.8297872340425532\n",
      "Accuracy：0.9966117762719006\n"
     ]
    }
   ],
   "source": [
    "!python RandomForest.py --dataset origin --fraud_weight 10000 --n_estimators 10 --max_depth 10"
   ]
  },
  {
   "cell_type": "markdown",
   "metadata": {},
   "source": [
    "## subsample"
   ]
  },
  {
   "cell_type": "code",
   "execution_count": 130,
   "metadata": {},
   "outputs": [
    {
     "name": "stdout",
     "output_type": "stream",
     "text": [
      "time consumed: 0.035028114999999915\n",
      "TP count:    82\n",
      "FP count:    1364\n",
      "TN count:    55504\n",
      "FN count:    12\n",
      "Precision rate:  0.056708160442600276\n",
      "Recall rate: 0.8723404255319149\n",
      "Accuracy：0.9758435448193532\n"
     ]
    }
   ],
   "source": [
    "!python RandomForest.py --dataset subsample --fraud_weight 1 --n_estimators 10 --max_depth 10"
   ]
  },
  {
   "cell_type": "code",
   "execution_count": 123,
   "metadata": {},
   "outputs": [
    {
     "name": "stdout",
     "output_type": "stream",
     "text": [
      "time consumed: 0.3034473059999999\n",
      "TP count:    85\n",
      "FP count:    522\n",
      "TN count:    56346\n",
      "FN count:    9\n",
      "Precision rate:  0.1400329489291598\n",
      "Recall rate: 0.9042553191489362\n",
      "Accuracy：0.9906779958568871\n"
     ]
    }
   ],
   "source": [
    "!python RandomForest.py --dataset subsample --fraud_weight 10 --n_estimators 100 --max_depth 10"
   ]
  },
  {
   "cell_type": "code",
   "execution_count": 125,
   "metadata": {},
   "outputs": [
    {
     "name": "stdout",
     "output_type": "stream",
     "text": [
      "time consumed: 0.3189671690000001\n",
      "TP count:    89\n",
      "FP count:    5093\n",
      "TN count:    51775\n",
      "FN count:    5\n",
      "Precision rate:  0.017174835970667695\n",
      "Recall rate: 0.9468085106382979\n",
      "Accuracy：0.9105017380007725\n"
     ]
    }
   ],
   "source": [
    "!python RandomForest.py --dataset subsample --fraud_weight 100 --n_estimators 100 --max_depth 10"
   ]
  },
  {
   "cell_type": "code",
   "execution_count": 127,
   "metadata": {},
   "outputs": [
    {
     "name": "stdout",
     "output_type": "stream",
     "text": [
      "time consumed: 0.298156187\n",
      "TP count:    92\n",
      "FP count:    25598\n",
      "TN count:    31270\n",
      "FN count:    2\n",
      "Precision rate:  0.003581159984429739\n",
      "Recall rate: 0.9787234042553191\n",
      "Accuracy：0.5505775780344792\n"
     ]
    }
   ],
   "source": [
    "!python RandomForest.py --dataset subsample --fraud_weight 1000 --n_estimators 100 --max_depth 10"
   ]
  },
  {
   "cell_type": "code",
   "execution_count": 126,
   "metadata": {},
   "outputs": [
    {
     "name": "stdout",
     "output_type": "stream",
     "text": [
      "time consumed: 0.306445608\n",
      "TP count:    93\n",
      "FP count:    27922\n",
      "TN count:    28946\n",
      "FN count:    1\n",
      "Precision rate:  0.0033196501873996075\n",
      "Recall rate: 0.9893617021276596\n",
      "Accuracy：0.5097960043537797\n"
     ]
    }
   ],
   "source": [
    "!python RandomForest.py --dataset subsample --fraud_weight 10000 --n_estimators 100 --max_depth 10"
   ]
  },
  {
   "cell_type": "code",
   "execution_count": null,
   "metadata": {},
   "outputs": [],
   "source": []
  }
 ],
 "metadata": {
  "kernelspec": {
   "display_name": "Python 3",
   "language": "python",
   "name": "python3"
  },
  "language_info": {
   "codemirror_mode": {
    "name": "ipython",
    "version": 3
   },
   "file_extension": ".py",
   "mimetype": "text/x-python",
   "name": "python",
   "nbconvert_exporter": "python",
   "pygments_lexer": "ipython3",
   "version": "3.7.3"
  }
 },
 "nbformat": 4,
 "nbformat_minor": 2
}
