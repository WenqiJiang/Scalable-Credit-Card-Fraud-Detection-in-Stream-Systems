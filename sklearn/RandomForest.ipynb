{
 "cells": [
  {
   "cell_type": "code",
   "execution_count": 5,
   "metadata": {},
   "outputs": [
    {
     "name": "stdout",
     "output_type": "stream",
     "text": [
      "TP count:    89\n",
      "FP count:    14\n",
      "TN count:    80\n",
      "FN count:    5\n",
      "Precision rate:  0.8640776699029126\n",
      "Recall rate: 0.9468085106382979\n"
     ]
    }
   ],
   "source": [
    "import numpy as np\n",
    "\n",
    "from sklearn.ensemble import RandomForestClassifier\n",
    "from prec_recall import prec_recall\n",
    "# load features and label from training set into array\n",
    "\n",
    "\n",
    "use_origin = False\n",
    "\n",
    "# if use_origin = True, use original dataset\n",
    "if use_origin:\n",
    "\n",
    "    train_features = np.load(\"../data/origin_data/X_train.npy\")\n",
    "    train_label = np.load(\"../data/origin_data/y_train.npy\")\n",
    "\n",
    "    val_features = np.load(\"../data/origin_data/X_val.npy\")\n",
    "    val_label = np.load(\"../data/origin_data/y_val.npy\")\n",
    "\n",
    "\n",
    "\n",
    "# if use_origin = False, use refined dataset\n",
    "else:\n",
    "\n",
    "    train_features = np.load(\"../data/subsamp_data/processed_X_train.npy\")\n",
    "    train_label = np.load(\"../data/subsamp_data/processed_y_train.npy\")\n",
    "\n",
    "    val_features = np.load(\"../data/subsamp_data/processed_X_val.npy\")\n",
    "    val_label = np.load(\"../data/subsamp_data/processed_y_val.npy\")\n",
    "\n",
    "\n",
    "clf = RandomForestClassifier(n_estimators=100, max_depth=10,random_state=0,class_weight = {0:1,1:100})\n",
    "\n",
    "clf.fit(train_features,train_label)\n",
    "\n",
    "val_label_predict = clf.predict(val_features)\n",
    "prec_recall(val_label, val_label_predict)"
   ]
  },
  {
   "cell_type": "code",
   "execution_count": 6,
   "metadata": {},
   "outputs": [
    {
     "data": {
      "text/plain": [
       "{0: 1, 1: 100}"
      ]
     },
     "execution_count": 6,
     "metadata": {},
     "output_type": "execute_result"
    }
   ],
   "source": [
    "clf.class_weight"
   ]
  },
  {
   "cell_type": "code",
   "execution_count": null,
   "metadata": {},
   "outputs": [],
   "source": []
  }
 ],
 "metadata": {
  "kernelspec": {
   "display_name": "Python 3",
   "language": "python",
   "name": "python3"
  },
  "language_info": {
   "codemirror_mode": {
    "name": "ipython",
    "version": 3
   },
   "file_extension": ".py",
   "mimetype": "text/x-python",
   "name": "python",
   "nbconvert_exporter": "python",
   "pygments_lexer": "ipython3",
   "version": "3.7.3"
  }
 },
 "nbformat": 4,
 "nbformat_minor": 2
}
