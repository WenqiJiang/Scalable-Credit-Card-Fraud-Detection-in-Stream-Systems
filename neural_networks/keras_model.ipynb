{
 "cells": [
  {
   "cell_type": "code",
   "execution_count": 1,
   "metadata": {},
   "outputs": [
    {
     "name": "stderr",
     "output_type": "stream",
     "text": [
      "Using TensorFlow backend.\n"
     ]
    }
   ],
   "source": [
    "from keras.models import Sequential\n",
    "from keras.layers import Dense\n",
    "import numpy as np\n",
    "# fix random seed for reproducibility\n",
    "np.random.seed(7)"
   ]
  },
  {
   "cell_type": "code",
   "execution_count": 2,
   "metadata": {},
   "outputs": [
    {
     "name": "stdout",
     "output_type": "stream",
     "text": [
      "shape: (170883, 28)\n",
      "[[ 1.38752494 -0.54781112  0.07642226 ...  0.92099681 -0.09656016\n",
      "  -0.01484612]\n",
      " [ 1.02117876 -0.19411366  1.20779128 ... -0.51589775  0.09118751\n",
      "   0.03595947]\n",
      " [-1.13445277  0.63684293  2.4572414  ... -0.09098684  0.05724697\n",
      "   0.10296089]\n",
      " ...\n",
      " [-1.70528006 -1.12855369  0.60738287 ...  0.95501575 -0.25510347\n",
      "   0.1175687 ]\n",
      " [-0.96427116 -0.04307304  1.29701462 ... -0.11447923  0.14905755\n",
      "   0.02952031]\n",
      " [ 2.20388395 -0.66904065 -1.40569346 ...  0.06556264 -0.03705105\n",
      "  -0.07670949]]\n",
      "[ 1.38752494 -0.54781112  0.07642226 -0.73933412 -0.51988706 -0.02600746\n",
      " -0.69467349 -0.05209965  0.37818662  0.48823798  0.99591782 -2.7565379\n",
      "  1.31405118  1.80524583 -0.29509726 -0.63098889  0.02879289  2.10443606\n",
      " -0.23607048 -0.46963017 -0.65829856 -1.30728584 -0.01322052 -0.9124153\n",
      "  0.16317842  0.92099681 -0.09656016 -0.01484612]\n"
     ]
    }
   ],
   "source": [
    "# load pima indians dataset\n",
    "X_train = np.load(\"./data/X_train.npy\")\n",
    "X_val = np.load(\"./data/X_val.npy\")\n",
    "X_test = np.load(\"./data/X_test.npy\")\n",
    "y_train = np.load(\"./data/y_train.npy\")\n",
    "y_val = np.load(\"./data/y_val.npy\")\n",
    "y_test = np.load(\"./data/y_test.npy\")\n",
    "print(\"shape: {}\".format(X_train.shape))\n",
    "print(X_train)\n",
    "\n",
    "print(X_train[0])"
   ]
  },
  {
   "cell_type": "code",
   "execution_count": 4,
   "metadata": {},
   "outputs": [],
   "source": [
    "# create model\n",
    "model = Sequential()\n",
    "model.add(Dense(12, input_dim=28, activation='relu'))\n",
    "model.add(Dense(8, activation='relu'))\n",
    "model.add(Dense(1, activation='sigmoid'))\n",
    "# Compile model\n",
    "model.compile(loss='binary_crossentropy', optimizer='adam', metrics=['accuracy'])"
   ]
  },
  {
   "cell_type": "code",
   "execution_count": 7,
   "metadata": {},
   "outputs": [
    {
     "name": "stdout",
     "output_type": "stream",
     "text": [
      "Epoch 1/10\n",
      "170883/170883 [==============================] - 64s 374us/step - loss: 0.0044 - acc: 0.9989\n",
      "Epoch 2/10\n",
      "170883/170883 [==============================] - 63s 369us/step - loss: 0.0031 - acc: 0.9994\n",
      "Epoch 3/10\n",
      "170883/170883 [==============================] - 64s 377us/step - loss: 0.0030 - acc: 0.9995\n",
      "Epoch 4/10\n",
      "170883/170883 [==============================] - 64s 373us/step - loss: 0.0028 - acc: 0.9995\n",
      "Epoch 5/10\n",
      "170883/170883 [==============================] - 64s 373us/step - loss: 0.0029 - acc: 0.9994\n",
      "Epoch 6/10\n",
      "170883/170883 [==============================] - 64s 374us/step - loss: 0.0026 - acc: 0.9995\n",
      "Epoch 7/10\n",
      "170883/170883 [==============================] - 64s 375us/step - loss: 0.0025 - acc: 0.9995\n",
      "Epoch 8/10\n",
      "170883/170883 [==============================] - 64s 374us/step - loss: 0.0025 - acc: 0.9995\n",
      "Epoch 9/10\n",
      "170883/170883 [==============================] - 63s 369us/step - loss: 0.0025 - acc: 0.9995\n",
      "Epoch 10/10\n",
      "170883/170883 [==============================] - 64s 373us/step - loss: 0.0024 - acc: 0.9995\n"
     ]
    },
    {
     "data": {
      "text/plain": [
       "<keras.callbacks.History at 0x7faa7f688390>"
      ]
     },
     "execution_count": 7,
     "metadata": {},
     "output_type": "execute_result"
    }
   ],
   "source": [
    "# Fit the model\n",
    "model.fit(X_train, y_train, epochs=10, batch_size=10)"
   ]
  },
  {
   "cell_type": "code",
   "execution_count": 8,
   "metadata": {},
   "outputs": [],
   "source": [
    "model.save_weights(\"model.h5\")"
   ]
  },
  {
   "cell_type": "code",
   "execution_count": 10,
   "metadata": {},
   "outputs": [
    {
     "name": "stdout",
     "output_type": "stream",
     "text": [
      "56962/56962 [==============================] - 2s 33us/step\n",
      "\n",
      "acc: 99.92%\n"
     ]
    }
   ],
   "source": [
    "scores = model.evaluate(X_val, y_val)\n",
    "print(\"\\n%s: %.2f%%\" % (model.metrics_names[1], scores[1]*100))"
   ]
  },
  {
   "cell_type": "code",
   "execution_count": null,
   "metadata": {},
   "outputs": [],
   "source": [
    "# calculate predictions\n",
    "predictions = model.predict(X)\n",
    "# round predictions\n",
    "rounded = [round(x[0]) for x in predictions]\n",
    "print(rounded)"
   ]
  },
  {
   "cell_type": "code",
   "execution_count": null,
   "metadata": {},
   "outputs": [],
   "source": [
    "model = Sequential()\n",
    "model.add(Dense(12, input_dim=8, activation='relu'))\n",
    "model.add(Dense(8, activation='relu'))\n",
    "model.add(Dense(1, activation='sigmoid'))\n",
    "model.compile(loss='binary_crossentropy', optimizer='adam', metrics=['accuracy'])\n",
    "model.load_weights(\"model.h5\")"
   ]
  },
  {
   "cell_type": "code",
   "execution_count": null,
   "metadata": {},
   "outputs": [],
   "source": [
    "scores = model.evaluate(X, Y)\n",
    "print(\"\\n%s: %.2f%%\" % (model.metrics_names[1], scores[1]*100))"
   ]
  },
  {
   "cell_type": "code",
   "execution_count": null,
   "metadata": {},
   "outputs": [],
   "source": []
  }
 ],
 "metadata": {
  "kernelspec": {
   "display_name": "Python 3",
   "language": "python",
   "name": "python3"
  },
  "language_info": {
   "codemirror_mode": {
    "name": "ipython",
    "version": 3
   },
   "file_extension": ".py",
   "mimetype": "text/x-python",
   "name": "python",
   "nbconvert_exporter": "python",
   "pygments_lexer": "ipython3",
   "version": "3.6.8"
  }
 },
 "nbformat": 4,
 "nbformat_minor": 2
}
