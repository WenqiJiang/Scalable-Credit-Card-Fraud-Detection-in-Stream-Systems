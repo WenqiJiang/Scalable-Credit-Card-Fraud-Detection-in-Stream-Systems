{
 "cells": [
  {
   "cell_type": "code",
   "execution_count": 2,
   "metadata": {},
   "outputs": [],
   "source": [
    "import numpy as np\n",
    "import pandas as pd\n",
    "from sklearn.model_selection import train_test_split\n",
    "from sklearn.neighbors import KNeighborsClassifier\n",
    "from sklearn.preprocessing import MinMaxScaler"
   ]
  },
  {
   "cell_type": "code",
   "execution_count": 1,
   "metadata": {},
   "outputs": [
    {
     "name": "stdout",
     "output_type": "stream",
     "text": [
      "creditcard.csv\tkeras_model.ipynb  load_csv.py\tsave_npy.ipynb\r\n",
      "data\t\tLICENSE\t\t   README.md\r\n"
     ]
    }
   ],
   "source": [
    "!ls"
   ]
  },
  {
   "cell_type": "code",
   "execution_count": 3,
   "metadata": {},
   "outputs": [],
   "source": [
    "credit_card = np.genfromtxt(\"creditcard.csv\", dtype='str', delimiter=',', skip_header=1)\n",
    "credit_card = np.char.strip(credit_card, '\"').astype(float)"
   ]
  },
  {
   "cell_type": "code",
   "execution_count": 20,
   "metadata": {},
   "outputs": [
    {
     "name": "stdout",
     "output_type": "stream",
     "text": [
      "(284807, 31)\n",
      "[ 0.00000000e+00 -1.35980713e+00 -7.27811733e-02  2.53634674e+00\n",
      "  1.37815522e+00 -3.38320770e-01  4.62387778e-01  2.39598554e-01\n",
      "  9.86979013e-02  3.63786970e-01  9.07941720e-02 -5.51599533e-01\n",
      " -6.17800856e-01 -9.91389847e-01 -3.11169354e-01  1.46817697e+00\n",
      " -4.70400525e-01  2.07971242e-01  2.57905802e-02  4.03992960e-01\n",
      "  2.51412098e-01 -1.83067779e-02  2.77837576e-01 -1.10473910e-01\n",
      "  6.69280749e-02  1.28539358e-01 -1.89114844e-01  1.33558377e-01\n",
      " -2.10530535e-02  1.49620000e+02  0.00000000e+00]\n"
     ]
    }
   ],
   "source": [
    "print(credit_card.shape)\n",
    "print(credit_card[0])"
   ]
  },
  {
   "cell_type": "code",
   "execution_count": 21,
   "metadata": {},
   "outputs": [
    {
     "name": "stdout",
     "output_type": "stream",
     "text": [
      "(284807, 28)\n",
      "[-1.35980713 -0.07278117  2.53634674  1.37815522 -0.33832077  0.46238778\n",
      "  0.23959855  0.0986979   0.36378697  0.09079417 -0.55159953 -0.61780086\n",
      " -0.99138985 -0.31116935  1.46817697 -0.47040053  0.20797124  0.02579058\n",
      "  0.40399296  0.2514121  -0.01830678  0.27783758 -0.11047391  0.06692807\n",
      "  0.12853936 -0.18911484  0.13355838 -0.02105305]\n"
     ]
    }
   ],
   "source": [
    "X_fruits = credit_card[:, 1:-2]\n",
    "y_fruits = credit_card[:, -1]\n",
    "y_fruits = np.array(y_fruits, dtype=np.int32)\n",
    "print(X_fruits.shape)\n",
    "print(X_fruits[0])"
   ]
  },
  {
   "cell_type": "code",
   "execution_count": 24,
   "metadata": {},
   "outputs": [
    {
     "name": "stdout",
     "output_type": "stream",
     "text": [
      "(170883, 28)\n",
      "(56962, 28)\n",
      "(56962, 28)\n",
      "[ 1.38752494 -0.54781112  0.07642226 -0.73933412 -0.51988706 -0.02600746\n",
      " -0.69467349 -0.05209965  0.37818662  0.48823798  0.99591782 -2.7565379\n",
      "  1.31405118  1.80524583 -0.29509726 -0.63098889  0.02879289  2.10443606\n",
      " -0.23607048 -0.46963017 -0.65829856 -1.30728584 -0.01322052 -0.9124153\n",
      "  0.16317842  0.92099681 -0.09656016 -0.01484612]\n",
      "(170883,)\n",
      "(56962,)\n",
      "(56962,)\n",
      "0\n"
     ]
    }
   ],
   "source": [
    "X_train, X_test, y_train, y_test = train_test_split(X_fruits, y_fruits, test_size=0.2, shuffle=True, random_state=1)\n",
    "X_train, X_val, y_train, y_val = train_test_split(X_train, y_train, test_size=0.25, shuffle=False, random_state=1)\n",
    "print(X_train.shape)\n",
    "print(X_val.shape)\n",
    "print(X_test.shape)\n",
    "print(X_train[0])\n",
    "print(y_train.shape)\n",
    "print(y_val.shape)\n",
    "print(y_test.shape)\n",
    "print(y_train[0])"
   ]
  },
  {
   "cell_type": "code",
   "execution_count": 25,
   "metadata": {},
   "outputs": [],
   "source": [
    "np.save(\"./data/X_train\", X_train)\n",
    "np.save(\"./data/X_val\", X_val)\n",
    "np.save(\"./data/X_test\", X_test)\n",
    "np.save(\"./data/y_train\", y_train)\n",
    "np.save(\"./data/y_val\", y_val)\n",
    "np.save(\"./data/y_test\", y_test)"
   ]
  },
  {
   "cell_type": "code",
   "execution_count": null,
   "metadata": {},
   "outputs": [],
   "source": []
  }
 ],
 "metadata": {
  "kernelspec": {
   "display_name": "Python 3",
   "language": "python",
   "name": "python3"
  },
  "language_info": {
   "codemirror_mode": {
    "name": "ipython",
    "version": 3
   },
   "file_extension": ".py",
   "mimetype": "text/x-python",
   "name": "python",
   "nbconvert_exporter": "python",
   "pygments_lexer": "ipython3",
   "version": "3.6.8"
  }
 },
 "nbformat": 4,
 "nbformat_minor": 2
}
